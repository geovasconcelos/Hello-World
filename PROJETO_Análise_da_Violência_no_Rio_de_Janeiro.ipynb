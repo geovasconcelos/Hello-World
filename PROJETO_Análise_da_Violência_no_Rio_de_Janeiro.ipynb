{
 "cells": [
  {
   "cell_type": "markdown",
   "metadata": {
    "colab_type": "text",
    "id": "kLI0gJtzDGuQ"
   },
   "source": [
    "<img alt=\"Rio\" width=\"100%\" src=\"https://diariodorio.com/wp-content/uploads/2014/07/Praia-de-Botafogo-Foto-Pedro-Kirilos-Riotur-2.jpg\">\n",
    "\n",
    "# Analisando a Violência no Rio de Janeiro\n",
    "\n",
    "Os homicídios no Brasil representam uma questão nacional de saúde pública, atingindo especialmente moradores das periferias e áreas metropolitanas dos centros urbanos. Nesse cenário, o Rio de Janeiro, como principal pólo turístico nacional, recebe destaque internacional sobretudo devido à guerrilha urbana que ocorrem em seus morros e favelas liderados pelo tráfico.\n",
    "\n",
    "Atualmente, as leis de acesso à informação e a conscientização dos órgãos públicos, vêm proporcionando a disponibilização de várias fontes de dados.\n",
    "\n",
    "Como exemplo, o governo do Rio de Janeiro traz a iniciativa do [portal ISPDados](http://www.ispdados.rj.gov.br/), onde faremos uma análise explorando os indicadores estatísticos da violência no Rio, com base nas variáveis fornecidas."
   ]
  },
  {
   "cell_type": "markdown",
   "metadata": {
    "colab_type": "text",
    "id": "0zxQHhIUDF_2"
   },
   "source": [
    "## Obtenção dos Dados\n",
    "\n",
    "\n",
    "Os dados foram obtidos diretamento do portal ISPDados, que é uma página de Dados Abertos do Instituto de Segurança Pública do Rio de Janeiro.\n",
    "\n",
    "As estatísticas divulgadas no portal são construídas a partir dos Registros de Ocorrência (RO) lavrados nas delegacias de Polícia Civil do Estado do Rio de Janeiro, além de informações complementares de órgãos específicos da Polícia Militar do Estado do Rio de Janeiro.\n",
    "\n",
    "Como forma de criar um controle de qualidade, antes de serem consolidados no ISP os RO são submetidos à Corregedoria Interna da Polícia Civil (COINPOL). As estatísticas produzidas baseiam-se na data em que foi confeccionado o Registro de Ocorrência.\n",
    "\n",
    "No caso do *dataset* a ser utilizado aqui, o arquivo `csv` pode ser baixado diretamente [neste link](https://raw.githubusercontent.com/carlosfab/dsnp2/master/datasets/violencia_rio.csv)."
   ]
  },
  {
   "cell_type": "markdown",
   "metadata": {
    "colab_type": "text",
    "id": "7vh4at0l90nr"
   },
   "source": [
    "### Importando os dados"
   ]
  },
  {
   "cell_type": "code",
   "execution_count": 177,
   "metadata": {
    "colab": {},
    "colab_type": "code",
    "id": "1ejW6ZPZV5kY"
   },
   "outputs": [],
   "source": [
    "# importa os pacotes necessários\n",
    "import pandas as pd\n",
    "import numpy as np\n",
    "import matplotlib.pyplot as plt\n",
    "\n",
    "df = pd.read_csv('https://raw.githubusercontent.com/carlosfab/dsnp2/master/datasets/violencia_rio.csv')"
   ]
  },
  {
   "cell_type": "markdown",
   "metadata": {
    "colab_type": "text",
    "id": "qb5By2nIMS6m"
   },
   "source": [
    "## Análise Inicial dos Dados\n"
   ]
  },
  {
   "cell_type": "markdown",
   "metadata": {
    "colab_type": "text",
    "id": "KrKEIVP9Fol6"
   },
   "source": [
    "Antes de começarmos a explorar nosso dataset, é preciso saber com o que estamos lidando. Para começarmos a entender melhor esse aspecto, vamos verificar as dimensões do dataset."
   ]
  },
  {
   "cell_type": "code",
   "execution_count": 150,
   "metadata": {
    "colab": {
     "base_uri": "https://localhost:8080/",
     "height": 51
    },
    "colab_type": "code",
    "id": "A0mTl9SsWMux",
    "outputId": "9f5b1104-e8b7-4b08-8e13-2a6da1882578"
   },
   "outputs": [
    {
     "name": "stdout",
     "output_type": "stream",
     "text": [
      "Variáveis:  56\n",
      "Entradas:  344\n"
     ]
    }
   ],
   "source": [
    "# verificar o tamanho do DataFrame\n",
    "print(\"Variáveis: \", df.shape[1])\n",
    "print(\"Entradas: \", df.shape[0])"
   ]
  },
  {
   "cell_type": "markdown",
   "metadata": {
    "colab_type": "text",
    "id": "jB5zzzuBFzkv"
   },
   "source": [
    "Agora que já sabemos com a dimensão dos dados com que estamos lidando, vamos verificar que tipo de dados nós temos, verificando as variáveis existentes no nosso conjunto de dados."
   ]
  },
  {
   "cell_type": "code",
   "execution_count": 151,
   "metadata": {
    "colab": {
     "base_uri": "https://localhost:8080/",
     "height": 306
    },
    "colab_type": "code",
    "id": "aMf9mXkCWNCp",
    "outputId": "bae9421c-1aef-43ab-a11d-93d2af15c915"
   },
   "outputs": [
    {
     "data": {
      "text/plain": [
       "Index(['vano', 'mes', 'hom_doloso', 'lesao_corp_morte', 'latrocinio',\n",
       "       'hom_por_interv_policial', 'tentat_hom', 'lesao_corp_dolosa', 'estupro',\n",
       "       'hom_culposo', 'lesao_corp_culposa', 'roubo_comercio',\n",
       "       'roubo_residencia', 'roubo_veiculo', 'roubo_carga', 'roubo_transeunte',\n",
       "       'roubo_em_coletivo', 'roubo_banco', 'roubo_cx_eletronico',\n",
       "       'roubo_celular', 'roubo_conducao_saque', 'roubo_apos_saque',\n",
       "       'roubo_bicicleta', 'outros_roubos', 'total_roubos', 'furto_veiculos',\n",
       "       'furto_transeunte', 'furto_coletivo', 'furto_celular',\n",
       "       'furto_bicicleta', 'outros_furtos', 'total_furtos', 'sequestro',\n",
       "       'extorsao', 'sequestro_relampago', 'estelionato', 'apreensao_drogas',\n",
       "       'posse_drogas', 'trafico_drogas', 'apreensao_drogas_sem_autor',\n",
       "       'recuperacao_veiculos', 'apf', 'aaapai', 'cmp', 'cmba', 'ameaca',\n",
       "       'pessoas_desaparecidas', 'encontro_cadaver', 'encontro_ossada',\n",
       "       'pol_militares_mortos_serv', 'pol_civis_mortos_serv',\n",
       "       'indicador_letalidade', 'indicador_roubo_rua', 'indicador_roubo_veic',\n",
       "       'registro_ocorrencias', 'fase'],\n",
       "      dtype='object')"
      ]
     },
     "execution_count": 151,
     "metadata": {},
     "output_type": "execute_result"
    }
   ],
   "source": [
    "# imprimir os nomes das colunas\n",
    "df.columns"
   ]
  },
  {
   "cell_type": "markdown",
   "metadata": {
    "colab_type": "text",
    "id": "SWA98O2_GCBK"
   },
   "source": [
    "Sabendo com quantas variáveis e linhas estamos lidando, e que tipo de informação vamos encontrar no dataset, é importante analisarmos o tipo de cada variável que temos. \n",
    "\n",
    "Esse tipo de informação é bastante útil, e nos ajudará a direcionar nosso trabalho na fase de limpeza dos dados."
   ]
  },
  {
   "cell_type": "code",
   "execution_count": 152,
   "metadata": {
    "colab": {
     "base_uri": "https://localhost:8080/",
     "height": 986
    },
    "colab_type": "code",
    "id": "TEgqVsKtWNS6",
    "outputId": "2d2e9984-85b3-4df9-a6db-82008782b411"
   },
   "outputs": [
    {
     "data": {
      "text/plain": [
       "vano                            int64\n",
       "mes                             int64\n",
       "hom_doloso                      int64\n",
       "lesao_corp_morte              float64\n",
       "latrocinio                      int64\n",
       "hom_por_interv_policial       float64\n",
       "tentat_hom                      int64\n",
       "lesao_corp_dolosa               int64\n",
       "estupro                       float64\n",
       "hom_culposo                   float64\n",
       "lesao_corp_culposa            float64\n",
       "roubo_comercio                  int64\n",
       "roubo_residencia                int64\n",
       "roubo_veiculo                   int64\n",
       "roubo_carga                     int64\n",
       "roubo_transeunte                int64\n",
       "roubo_em_coletivo               int64\n",
       "roubo_banco                     int64\n",
       "roubo_cx_eletronico           float64\n",
       "roubo_celular                 float64\n",
       "roubo_conducao_saque          float64\n",
       "roubo_apos_saque              float64\n",
       "roubo_bicicleta               float64\n",
       "outros_roubos                   int64\n",
       "total_roubos                    int64\n",
       "furto_veiculos                  int64\n",
       "furto_transeunte                int64\n",
       "furto_coletivo                float64\n",
       "furto_celular                 float64\n",
       "furto_bicicleta               float64\n",
       "outros_furtos                   int64\n",
       "total_furtos                    int64\n",
       "sequestro                     float64\n",
       "extorsao                      float64\n",
       "sequestro_relampago           float64\n",
       "estelionato                   float64\n",
       "apreensao_drogas                int64\n",
       "posse_drogas                  float64\n",
       "trafico_drogas                float64\n",
       "apreensao_drogas_sem_autor    float64\n",
       "recuperacao_veiculos            int64\n",
       "apf                           float64\n",
       "aaapai                        float64\n",
       "cmp                           float64\n",
       "cmba                          float64\n",
       "ameaca                        float64\n",
       "pessoas_desaparecidas         float64\n",
       "encontro_cadaver                int64\n",
       "encontro_ossada               float64\n",
       "pol_militares_mortos_serv     float64\n",
       "pol_civis_mortos_serv         float64\n",
       "indicador_letalidade            int64\n",
       "indicador_roubo_rua             int64\n",
       "indicador_roubo_veic            int64\n",
       "registro_ocorrencias          float64\n",
       "fase                            int64\n",
       "dtype: object"
      ]
     },
     "execution_count": 152,
     "metadata": {},
     "output_type": "execute_result"
    }
   ],
   "source": [
    "# ver os tipos das variáveis\n",
    "df.dtypes"
   ]
  },
  {
   "cell_type": "markdown",
   "metadata": {
    "colab_type": "text",
    "id": "70hPcygBGkY8"
   },
   "source": [
    "Aqui é interessante notar que todas as variáveis presentes no dataset são do tipo numérico, sejam elas `int` ou `float`."
   ]
  },
  {
   "cell_type": "markdown",
   "metadata": {
    "colab_type": "text",
    "id": "U96XvWRtGzrl"
   },
   "source": [
    "Com tudo isso em mente, é hora de darmos uma olhada nesse dataset e ver como ele está organizado, como esses dados são apresentados e termos uma ideia do que podemos fazer com eles."
   ]
  },
  {
   "cell_type": "code",
   "execution_count": 153,
   "metadata": {
    "colab": {
     "base_uri": "https://localhost:8080/",
     "height": 244
    },
    "colab_type": "code",
    "id": "eAie0DmmWbl5",
    "outputId": "72e0320f-23bc-4c33-815a-86a2281c2648"
   },
   "outputs": [
    {
     "data": {
      "text/html": [
       "<div>\n",
       "<style scoped>\n",
       "    .dataframe tbody tr th:only-of-type {\n",
       "        vertical-align: middle;\n",
       "    }\n",
       "\n",
       "    .dataframe tbody tr th {\n",
       "        vertical-align: top;\n",
       "    }\n",
       "\n",
       "    .dataframe thead th {\n",
       "        text-align: right;\n",
       "    }\n",
       "</style>\n",
       "<table border=\"1\" class=\"dataframe\">\n",
       "  <thead>\n",
       "    <tr style=\"text-align: right;\">\n",
       "      <th></th>\n",
       "      <th>vano</th>\n",
       "      <th>mes</th>\n",
       "      <th>hom_doloso</th>\n",
       "      <th>lesao_corp_morte</th>\n",
       "      <th>latrocinio</th>\n",
       "      <th>hom_por_interv_policial</th>\n",
       "      <th>tentat_hom</th>\n",
       "      <th>lesao_corp_dolosa</th>\n",
       "      <th>estupro</th>\n",
       "      <th>hom_culposo</th>\n",
       "      <th>...</th>\n",
       "      <th>pessoas_desaparecidas</th>\n",
       "      <th>encontro_cadaver</th>\n",
       "      <th>encontro_ossada</th>\n",
       "      <th>pol_militares_mortos_serv</th>\n",
       "      <th>pol_civis_mortos_serv</th>\n",
       "      <th>indicador_letalidade</th>\n",
       "      <th>indicador_roubo_rua</th>\n",
       "      <th>indicador_roubo_veic</th>\n",
       "      <th>registro_ocorrencias</th>\n",
       "      <th>fase</th>\n",
       "    </tr>\n",
       "  </thead>\n",
       "  <tbody>\n",
       "    <tr>\n",
       "      <th>0</th>\n",
       "      <td>1991</td>\n",
       "      <td>1</td>\n",
       "      <td>657</td>\n",
       "      <td>NaN</td>\n",
       "      <td>15</td>\n",
       "      <td>NaN</td>\n",
       "      <td>162</td>\n",
       "      <td>3051</td>\n",
       "      <td>NaN</td>\n",
       "      <td>NaN</td>\n",
       "      <td>...</td>\n",
       "      <td>NaN</td>\n",
       "      <td>217</td>\n",
       "      <td>NaN</td>\n",
       "      <td>NaN</td>\n",
       "      <td>NaN</td>\n",
       "      <td>672</td>\n",
       "      <td>1348</td>\n",
       "      <td>1174</td>\n",
       "      <td>NaN</td>\n",
       "      <td>3</td>\n",
       "    </tr>\n",
       "    <tr>\n",
       "      <th>1</th>\n",
       "      <td>1991</td>\n",
       "      <td>2</td>\n",
       "      <td>732</td>\n",
       "      <td>NaN</td>\n",
       "      <td>17</td>\n",
       "      <td>NaN</td>\n",
       "      <td>175</td>\n",
       "      <td>3421</td>\n",
       "      <td>NaN</td>\n",
       "      <td>NaN</td>\n",
       "      <td>...</td>\n",
       "      <td>NaN</td>\n",
       "      <td>209</td>\n",
       "      <td>NaN</td>\n",
       "      <td>NaN</td>\n",
       "      <td>NaN</td>\n",
       "      <td>749</td>\n",
       "      <td>1395</td>\n",
       "      <td>1097</td>\n",
       "      <td>NaN</td>\n",
       "      <td>3</td>\n",
       "    </tr>\n",
       "    <tr>\n",
       "      <th>2</th>\n",
       "      <td>1991</td>\n",
       "      <td>3</td>\n",
       "      <td>713</td>\n",
       "      <td>NaN</td>\n",
       "      <td>25</td>\n",
       "      <td>NaN</td>\n",
       "      <td>216</td>\n",
       "      <td>3613</td>\n",
       "      <td>NaN</td>\n",
       "      <td>NaN</td>\n",
       "      <td>...</td>\n",
       "      <td>NaN</td>\n",
       "      <td>188</td>\n",
       "      <td>NaN</td>\n",
       "      <td>NaN</td>\n",
       "      <td>NaN</td>\n",
       "      <td>738</td>\n",
       "      <td>1385</td>\n",
       "      <td>1265</td>\n",
       "      <td>NaN</td>\n",
       "      <td>3</td>\n",
       "    </tr>\n",
       "    <tr>\n",
       "      <th>3</th>\n",
       "      <td>1991</td>\n",
       "      <td>4</td>\n",
       "      <td>634</td>\n",
       "      <td>NaN</td>\n",
       "      <td>20</td>\n",
       "      <td>NaN</td>\n",
       "      <td>200</td>\n",
       "      <td>3211</td>\n",
       "      <td>NaN</td>\n",
       "      <td>NaN</td>\n",
       "      <td>...</td>\n",
       "      <td>NaN</td>\n",
       "      <td>140</td>\n",
       "      <td>NaN</td>\n",
       "      <td>NaN</td>\n",
       "      <td>NaN</td>\n",
       "      <td>654</td>\n",
       "      <td>1540</td>\n",
       "      <td>1415</td>\n",
       "      <td>NaN</td>\n",
       "      <td>3</td>\n",
       "    </tr>\n",
       "    <tr>\n",
       "      <th>4</th>\n",
       "      <td>1991</td>\n",
       "      <td>5</td>\n",
       "      <td>650</td>\n",
       "      <td>NaN</td>\n",
       "      <td>20</td>\n",
       "      <td>NaN</td>\n",
       "      <td>146</td>\n",
       "      <td>3051</td>\n",
       "      <td>NaN</td>\n",
       "      <td>NaN</td>\n",
       "      <td>...</td>\n",
       "      <td>NaN</td>\n",
       "      <td>78</td>\n",
       "      <td>NaN</td>\n",
       "      <td>NaN</td>\n",
       "      <td>NaN</td>\n",
       "      <td>670</td>\n",
       "      <td>1266</td>\n",
       "      <td>1449</td>\n",
       "      <td>NaN</td>\n",
       "      <td>3</td>\n",
       "    </tr>\n",
       "  </tbody>\n",
       "</table>\n",
       "<p>5 rows × 56 columns</p>\n",
       "</div>"
      ],
      "text/plain": [
       "   vano  mes  hom_doloso  lesao_corp_morte  latrocinio  \\\n",
       "0  1991    1         657               NaN          15   \n",
       "1  1991    2         732               NaN          17   \n",
       "2  1991    3         713               NaN          25   \n",
       "3  1991    4         634               NaN          20   \n",
       "4  1991    5         650               NaN          20   \n",
       "\n",
       "   hom_por_interv_policial  tentat_hom  lesao_corp_dolosa  estupro  \\\n",
       "0                      NaN         162               3051      NaN   \n",
       "1                      NaN         175               3421      NaN   \n",
       "2                      NaN         216               3613      NaN   \n",
       "3                      NaN         200               3211      NaN   \n",
       "4                      NaN         146               3051      NaN   \n",
       "\n",
       "   hom_culposo  ...  pessoas_desaparecidas  encontro_cadaver  encontro_ossada  \\\n",
       "0          NaN  ...                    NaN               217              NaN   \n",
       "1          NaN  ...                    NaN               209              NaN   \n",
       "2          NaN  ...                    NaN               188              NaN   \n",
       "3          NaN  ...                    NaN               140              NaN   \n",
       "4          NaN  ...                    NaN                78              NaN   \n",
       "\n",
       "   pol_militares_mortos_serv  pol_civis_mortos_serv  indicador_letalidade  \\\n",
       "0                        NaN                    NaN                   672   \n",
       "1                        NaN                    NaN                   749   \n",
       "2                        NaN                    NaN                   738   \n",
       "3                        NaN                    NaN                   654   \n",
       "4                        NaN                    NaN                   670   \n",
       "\n",
       "   indicador_roubo_rua  indicador_roubo_veic  registro_ocorrencias  fase  \n",
       "0                 1348                  1174                   NaN     3  \n",
       "1                 1395                  1097                   NaN     3  \n",
       "2                 1385                  1265                   NaN     3  \n",
       "3                 1540                  1415                   NaN     3  \n",
       "4                 1266                  1449                   NaN     3  \n",
       "\n",
       "[5 rows x 56 columns]"
      ]
     },
     "execution_count": 153,
     "metadata": {},
     "output_type": "execute_result"
    }
   ],
   "source": [
    "# ver as 5 primeiras entradas do dataset\n",
    "df.head()"
   ]
  },
  {
   "cell_type": "markdown",
   "metadata": {
    "colab_type": "text",
    "id": "GuBYp20iHED_"
   },
   "source": [
    "É interessante reparar que algumas variáveis apresentam muitos dados ausentes. Dado o grande intervalo de tempo apresentado no dataset, podemos sugerir algumas hipóteses do que poderia explicar essa ausência, e como podemos contorná-la para continuar explorando o conjunto de dados.\n",
    "\n",
    "* Como temos dados registrados desde o ano de 1991, alguns desses crimes poderiam não estar sendo contabilizados pelo órgão que coletou esses dados e gerou esse dataset. Estarem ausentes não significa que não existiram, e vamos pensar em formas de lidar com essa ausência logo mais.\n",
    "\n",
    "* Infelizmente, se tratando de Brasil, se hoje temos uma cultura de dados que ainda deixa a desejar, o que dizer da mesma no período em tela? Devemos levar em consideração também o formato em que esses dados eram registrados à época. Será que foram registrados corretamente e perdidos em períodos de digitalização? Ou será que o gerenciamento dessas informações sempre foi falho?\n",
    "\n",
    "Antes de decidirmos o que fazer em relação aos dados ausentes, vamos verificar a proporção deles em relação à totalidade do dataset."
   ]
  },
  {
   "cell_type": "code",
   "execution_count": 34,
   "metadata": {
    "colab": {
     "base_uri": "https://localhost:8080/",
     "height": 986
    },
    "colab_type": "code",
    "id": "lzcQgtVtWypd",
    "outputId": "d0ca3d89-5e15-4b3f-e902-630640f29da5"
   },
   "outputs": [
    {
     "data": {
      "text/plain": [
       "roubo_bicicleta               0.802326\n",
       "furto_bicicleta               0.802326\n",
       "apreensao_drogas_sem_autor    0.523256\n",
       "posse_drogas                  0.523256\n",
       "apf                           0.523256\n",
       "aaapai                        0.523256\n",
       "cmp                           0.523256\n",
       "trafico_drogas                0.523256\n",
       "cmba                          0.523256\n",
       "sequestro_relampago           0.418605\n",
       "furto_coletivo                0.418605\n",
       "extorsao                      0.418605\n",
       "furto_celular                 0.418605\n",
       "roubo_apos_saque              0.418605\n",
       "roubo_conducao_saque          0.418605\n",
       "roubo_cx_eletronico           0.418605\n",
       "estupro                       0.418605\n",
       "estelionato                   0.418605\n",
       "pol_civis_mortos_serv         0.418605\n",
       "pol_militares_mortos_serv     0.418605\n",
       "pessoas_desaparecidas         0.383721\n",
       "encontro_ossada               0.383721\n",
       "roubo_celular                 0.313953\n",
       "lesao_corp_culposa            0.279070\n",
       "ameaca                        0.279070\n",
       "sequestro                     0.279070\n",
       "lesao_corp_morte              0.279070\n",
       "registro_ocorrencias          0.279070\n",
       "hom_por_interv_policial       0.244186\n",
       "hom_culposo                   0.244186\n",
       "tentat_hom                    0.000000\n",
       "roubo_comercio                0.000000\n",
       "roubo_residencia              0.000000\n",
       "latrocinio                    0.000000\n",
       "lesao_corp_dolosa             0.000000\n",
       "hom_doloso                    0.000000\n",
       "roubo_transeunte              0.000000\n",
       "mes                           0.000000\n",
       "roubo_veiculo                 0.000000\n",
       "roubo_carga                   0.000000\n",
       "fase                          0.000000\n",
       "roubo_em_coletivo             0.000000\n",
       "roubo_banco                   0.000000\n",
       "outros_roubos                 0.000000\n",
       "total_roubos                  0.000000\n",
       "furto_veiculos                0.000000\n",
       "furto_transeunte              0.000000\n",
       "outros_furtos                 0.000000\n",
       "total_furtos                  0.000000\n",
       "apreensao_drogas              0.000000\n",
       "recuperacao_veiculos          0.000000\n",
       "encontro_cadaver              0.000000\n",
       "indicador_letalidade          0.000000\n",
       "indicador_roubo_rua           0.000000\n",
       "indicador_roubo_veic          0.000000\n",
       "vano                          0.000000\n",
       "dtype: float64"
      ]
     },
     "execution_count": 34,
     "metadata": {},
     "output_type": "execute_result"
    }
   ],
   "source": [
    "# ver os valores faltantes das colunas\n",
    "(df.isnull().sum()/ df.shape[0]).sort_values(ascending=False)"
   ]
  },
  {
   "cell_type": "markdown",
   "metadata": {
    "colab_type": "text",
    "id": "TtUh6pagZbZ2"
   },
   "source": [
    "Acima, podemos ver que algumas das variáveis tem valores faltantes em proporções consideráveis como é o exemplo de crimes relacionados a bicicletas e apreensão de drogas.\n",
    "\n",
    "Como os dados estão estruturados ao longo do tempo, uma forma de realizar uma análise que condiza melhor com a realidade, podemos analisá-los a partir da data em que começaram a ser registrados.\n",
    "\n",
    "Além disso, existem outras formas de encararmos e explorarmos os dados, como por exemplo:\n",
    "\n",
    "* Números anuais por crime.\n",
    "* Números mensais por crime.\n",
    "* Categorias de crimes (Contra a vida, Contra o patrimônio, etc.)\n",
    "\n"
   ]
  },
  {
   "cell_type": "markdown",
   "metadata": {},
   "source": [
    "### Ajustando o Data Set para as nossas necessidades\n",
    "\n",
    "Como vimos, temos dados muito antigos e faltantes. Para uma maior relevância da análise, considerando que os dados dos anos 90 podem trazer vícios a análise tanto pela mudança da realidade nacional quanto pela confiabilidade da coleta desses dados num período menos automatizado, vamos separar e filtrar nosso Data Set, mantendo apenas os dados dos últimos 10 anos. \n",
    "\n",
    "Nosso estudo fará duas análises mais aprofundadas:\n",
    "\n",
    "* Crimes Contra o Patrimônio - Veículos\n",
    "* Crimes Contra a Vida\n",
    "\n",
    "Dessa forma, nosso novo conjunto de dados só precisará das seguintes colunas:\n",
    "\n",
    "`mes\thom_doloso\tlesao_corp_morte\tlatrocinio\tfurto_veiculos\troubo_veiculo\trecuperacao_veiculos`"
   ]
  },
  {
   "cell_type": "code",
   "execution_count": 154,
   "metadata": {},
   "outputs": [],
   "source": [
    "#Inicialmente alterando o index para ano:\n",
    "df2 = df.set_index('vano')"
   ]
  },
  {
   "cell_type": "code",
   "execution_count": 156,
   "metadata": {},
   "outputs": [
    {
     "data": {
      "text/html": [
       "<div>\n",
       "<style scoped>\n",
       "    .dataframe tbody tr th:only-of-type {\n",
       "        vertical-align: middle;\n",
       "    }\n",
       "\n",
       "    .dataframe tbody tr th {\n",
       "        vertical-align: top;\n",
       "    }\n",
       "\n",
       "    .dataframe thead th {\n",
       "        text-align: right;\n",
       "    }\n",
       "</style>\n",
       "<table border=\"1\" class=\"dataframe\">\n",
       "  <thead>\n",
       "    <tr style=\"text-align: right;\">\n",
       "      <th></th>\n",
       "      <th>mes</th>\n",
       "      <th>hom_doloso</th>\n",
       "      <th>lesao_corp_morte</th>\n",
       "      <th>latrocinio</th>\n",
       "      <th>furto_veiculos</th>\n",
       "      <th>roubo_veiculo</th>\n",
       "      <th>recuperacao_veiculos</th>\n",
       "    </tr>\n",
       "    <tr>\n",
       "      <th>vano</th>\n",
       "      <th></th>\n",
       "      <th></th>\n",
       "      <th></th>\n",
       "      <th></th>\n",
       "      <th></th>\n",
       "      <th></th>\n",
       "      <th></th>\n",
       "    </tr>\n",
       "  </thead>\n",
       "  <tbody>\n",
       "    <tr>\n",
       "      <th>2009</th>\n",
       "      <td>1</td>\n",
       "      <td>551</td>\n",
       "      <td>2.0</td>\n",
       "      <td>13</td>\n",
       "      <td>1789</td>\n",
       "      <td>2573</td>\n",
       "      <td>1883</td>\n",
       "    </tr>\n",
       "    <tr>\n",
       "      <th>2009</th>\n",
       "      <td>2</td>\n",
       "      <td>556</td>\n",
       "      <td>4.0</td>\n",
       "      <td>19</td>\n",
       "      <td>1691</td>\n",
       "      <td>2367</td>\n",
       "      <td>1742</td>\n",
       "    </tr>\n",
       "    <tr>\n",
       "      <th>2009</th>\n",
       "      <td>3</td>\n",
       "      <td>588</td>\n",
       "      <td>5.0</td>\n",
       "      <td>30</td>\n",
       "      <td>1830</td>\n",
       "      <td>2564</td>\n",
       "      <td>1880</td>\n",
       "    </tr>\n",
       "    <tr>\n",
       "      <th>2009</th>\n",
       "      <td>4</td>\n",
       "      <td>542</td>\n",
       "      <td>3.0</td>\n",
       "      <td>27</td>\n",
       "      <td>1759</td>\n",
       "      <td>2310</td>\n",
       "      <td>1788</td>\n",
       "    </tr>\n",
       "    <tr>\n",
       "      <th>2009</th>\n",
       "      <td>5</td>\n",
       "      <td>522</td>\n",
       "      <td>0.0</td>\n",
       "      <td>14</td>\n",
       "      <td>1679</td>\n",
       "      <td>2340</td>\n",
       "      <td>1795</td>\n",
       "    </tr>\n",
       "  </tbody>\n",
       "</table>\n",
       "</div>"
      ],
      "text/plain": [
       "      mes  hom_doloso  lesao_corp_morte  latrocinio  furto_veiculos  \\\n",
       "vano                                                                  \n",
       "2009    1         551               2.0          13            1789   \n",
       "2009    2         556               4.0          19            1691   \n",
       "2009    3         588               5.0          30            1830   \n",
       "2009    4         542               3.0          27            1759   \n",
       "2009    5         522               0.0          14            1679   \n",
       "\n",
       "      roubo_veiculo  recuperacao_veiculos  \n",
       "vano                                       \n",
       "2009           2573                  1883  \n",
       "2009           2367                  1742  \n",
       "2009           2564                  1880  \n",
       "2009           2310                  1788  \n",
       "2009           2340                  1795  "
      ]
     },
     "execution_count": 156,
     "metadata": {},
     "output_type": "execute_result"
    }
   ],
   "source": [
    "#separando os dados:\n",
    "df3 = df2.loc[[2009,2010,2011,2012,2013,2014,2015,2016,2017,2018,2019],['mes','hom_doloso','lesao_corp_morte','latrocinio','furto_veiculos','roubo_veiculo','recuperacao_veiculos']]\n",
    "df3.head()"
   ]
  },
  {
   "cell_type": "code",
   "execution_count": 159,
   "metadata": {},
   "outputs": [
    {
     "data": {
      "text/plain": [
       "mes                     0.0\n",
       "hom_doloso              0.0\n",
       "lesao_corp_morte        0.0\n",
       "latrocinio              0.0\n",
       "furto_veiculos          0.0\n",
       "roubo_veiculo           0.0\n",
       "recuperacao_veiculos    0.0\n",
       "dtype: float64"
      ]
     },
     "execution_count": 159,
     "metadata": {},
     "output_type": "execute_result"
    }
   ],
   "source": [
    "#analisando o novo dataset\n",
    "df3.isnull().sum()/df2.shape[0]"
   ]
  },
  {
   "cell_type": "markdown",
   "metadata": {},
   "source": [
    "Podemos observar que o novo data set não possui dados faltantes e todas as colunas são numéricas, estando, portanto, apto para seguir a exploração."
   ]
  },
  {
   "cell_type": "markdown",
   "metadata": {
    "colab_type": "text",
    "id": "fdYj8Gz5OpNR"
   },
   "source": [
    "### Crimes Contra o Patrimônio - Veículos\n",
    "\n",
    "Vamos dedicar essa seção do projeto para investigar dados em relação aos crimes de roubo e furto de veículos.\n",
    "\n",
    "Selecionamos esse topo de delito porque existe um risco baixo de subnotificação, por isso os dados tendem a ser aderentes à realidade. Além disso, trata-se de um problema comum nas grandes metrópoles brasileiras, merecendo destaque em nosso projeto. Como temos dados sobre roubo, furto e recuperação de veículos, conseguimos utilizar essas informações para encontrar resultados pertinentes em relação à situação e ao combate a esse tipo de crime."
   ]
  },
  {
   "cell_type": "code",
   "execution_count": 247,
   "metadata": {},
   "outputs": [
    {
     "data": {
      "text/html": [
       "<div>\n",
       "<style scoped>\n",
       "    .dataframe tbody tr th:only-of-type {\n",
       "        vertical-align: middle;\n",
       "    }\n",
       "\n",
       "    .dataframe tbody tr th {\n",
       "        vertical-align: top;\n",
       "    }\n",
       "\n",
       "    .dataframe thead th {\n",
       "        text-align: right;\n",
       "    }\n",
       "</style>\n",
       "<table border=\"1\" class=\"dataframe\">\n",
       "  <thead>\n",
       "    <tr style=\"text-align: right;\">\n",
       "      <th></th>\n",
       "      <th>mes</th>\n",
       "      <th>hom_doloso</th>\n",
       "      <th>lesao_corp_morte</th>\n",
       "      <th>latrocinio</th>\n",
       "      <th>furto_veiculos</th>\n",
       "      <th>roubo_veiculo</th>\n",
       "      <th>recuperacao_veiculos</th>\n",
       "    </tr>\n",
       "    <tr>\n",
       "      <th>vano</th>\n",
       "      <th></th>\n",
       "      <th></th>\n",
       "      <th></th>\n",
       "      <th></th>\n",
       "      <th></th>\n",
       "      <th></th>\n",
       "      <th></th>\n",
       "    </tr>\n",
       "  </thead>\n",
       "  <tbody>\n",
       "    <tr>\n",
       "      <th>2009</th>\n",
       "      <td>78</td>\n",
       "      <td>5793</td>\n",
       "      <td>44.0</td>\n",
       "      <td>221</td>\n",
       "      <td>20342</td>\n",
       "      <td>25036</td>\n",
       "      <td>19913</td>\n",
       "    </tr>\n",
       "    <tr>\n",
       "      <th>2010</th>\n",
       "      <td>78</td>\n",
       "      <td>4767</td>\n",
       "      <td>50.0</td>\n",
       "      <td>156</td>\n",
       "      <td>18752</td>\n",
       "      <td>20052</td>\n",
       "      <td>16568</td>\n",
       "    </tr>\n",
       "    <tr>\n",
       "      <th>2011</th>\n",
       "      <td>78</td>\n",
       "      <td>4279</td>\n",
       "      <td>40.0</td>\n",
       "      <td>118</td>\n",
       "      <td>15593</td>\n",
       "      <td>18773</td>\n",
       "      <td>16142</td>\n",
       "    </tr>\n",
       "    <tr>\n",
       "      <th>2012</th>\n",
       "      <td>78</td>\n",
       "      <td>4081</td>\n",
       "      <td>24.0</td>\n",
       "      <td>142</td>\n",
       "      <td>16263</td>\n",
       "      <td>22065</td>\n",
       "      <td>17446</td>\n",
       "    </tr>\n",
       "    <tr>\n",
       "      <th>2013</th>\n",
       "      <td>78</td>\n",
       "      <td>4745</td>\n",
       "      <td>39.0</td>\n",
       "      <td>148</td>\n",
       "      <td>17668</td>\n",
       "      <td>28002</td>\n",
       "      <td>21355</td>\n",
       "    </tr>\n",
       "    <tr>\n",
       "      <th>2014</th>\n",
       "      <td>78</td>\n",
       "      <td>4942</td>\n",
       "      <td>41.0</td>\n",
       "      <td>152</td>\n",
       "      <td>17683</td>\n",
       "      <td>32651</td>\n",
       "      <td>25227</td>\n",
       "    </tr>\n",
       "    <tr>\n",
       "      <th>2015</th>\n",
       "      <td>78</td>\n",
       "      <td>4200</td>\n",
       "      <td>32.0</td>\n",
       "      <td>133</td>\n",
       "      <td>16944</td>\n",
       "      <td>31035</td>\n",
       "      <td>23663</td>\n",
       "    </tr>\n",
       "    <tr>\n",
       "      <th>2016</th>\n",
       "      <td>78</td>\n",
       "      <td>5042</td>\n",
       "      <td>56.0</td>\n",
       "      <td>239</td>\n",
       "      <td>16759</td>\n",
       "      <td>41696</td>\n",
       "      <td>28690</td>\n",
       "    </tr>\n",
       "    <tr>\n",
       "      <th>2017</th>\n",
       "      <td>78</td>\n",
       "      <td>5346</td>\n",
       "      <td>39.0</td>\n",
       "      <td>237</td>\n",
       "      <td>15708</td>\n",
       "      <td>54366</td>\n",
       "      <td>37630</td>\n",
       "    </tr>\n",
       "    <tr>\n",
       "      <th>2018</th>\n",
       "      <td>78</td>\n",
       "      <td>4950</td>\n",
       "      <td>56.0</td>\n",
       "      <td>174</td>\n",
       "      <td>15794</td>\n",
       "      <td>52097</td>\n",
       "      <td>36448</td>\n",
       "    </tr>\n",
       "    <tr>\n",
       "      <th>2019</th>\n",
       "      <td>36</td>\n",
       "      <td>2717</td>\n",
       "      <td>24.0</td>\n",
       "      <td>84</td>\n",
       "      <td>10812</td>\n",
       "      <td>28012</td>\n",
       "      <td>19387</td>\n",
       "    </tr>\n",
       "  </tbody>\n",
       "</table>\n",
       "</div>"
      ],
      "text/plain": [
       "      mes  hom_doloso  lesao_corp_morte  latrocinio  furto_veiculos  \\\n",
       "vano                                                                  \n",
       "2009   78        5793              44.0         221           20342   \n",
       "2010   78        4767              50.0         156           18752   \n",
       "2011   78        4279              40.0         118           15593   \n",
       "2012   78        4081              24.0         142           16263   \n",
       "2013   78        4745              39.0         148           17668   \n",
       "2014   78        4942              41.0         152           17683   \n",
       "2015   78        4200              32.0         133           16944   \n",
       "2016   78        5042              56.0         239           16759   \n",
       "2017   78        5346              39.0         237           15708   \n",
       "2018   78        4950              56.0         174           15794   \n",
       "2019   36        2717              24.0          84           10812   \n",
       "\n",
       "      roubo_veiculo  recuperacao_veiculos  \n",
       "vano                                       \n",
       "2009          25036                 19913  \n",
       "2010          20052                 16568  \n",
       "2011          18773                 16142  \n",
       "2012          22065                 17446  \n",
       "2013          28002                 21355  \n",
       "2014          32651                 25227  \n",
       "2015          31035                 23663  \n",
       "2016          41696                 28690  \n",
       "2017          54366                 37630  \n",
       "2018          52097                 36448  \n",
       "2019          28012                 19387  "
      ]
     },
     "execution_count": 247,
     "metadata": {},
     "output_type": "execute_result"
    }
   ],
   "source": [
    "#Agrupando os dados por ano\n",
    "df4 = df3.groupby(df3.index).sum()\n",
    "df4"
   ]
  },
  {
   "cell_type": "code",
   "execution_count": 161,
   "metadata": {
    "colab": {
     "base_uri": "https://localhost:8080/",
     "height": 34
    },
    "colab_type": "code",
    "id": "PAswmBcSc-lx",
    "outputId": "fcd58503-8f17-4f8a-b60a-5a7298309804"
   },
   "outputs": [
    {
     "name": "stdout",
     "output_type": "stream",
     "text": [
      "2763.95\n"
     ]
    }
   ],
   "source": [
    "# ver a média da variável roubo_veiculo\n",
    "mean_roubo_veiculo = df3.roubo_veiculo.mean()\n",
    "print(round(mean_roubo_veiculo,2))"
   ]
  },
  {
   "cell_type": "code",
   "execution_count": 191,
   "metadata": {},
   "outputs": [
    {
     "data": {
      "text/plain": [
       "<matplotlib.axes._subplots.AxesSubplot at 0x9c306b0>"
      ]
     },
     "execution_count": 191,
     "metadata": {},
     "output_type": "execute_result"
    },
    {
     "data": {
      "image/png": "[encoded data removed]",
      "text/plain": [
       "<Figure size 432x288 with 1 Axes>"
      ]
     },
     "metadata": {
      "needs_background": "light"
     },
     "output_type": "display_data"
    }
   ],
   "source": [
    "df4.roubo_veiculo.plot.line()"
   ]
  },
  {
   "cell_type": "markdown",
   "metadata": {
    "colab_type": "text",
    "id": "fTlvn84CPn87"
   },
   "source": [
    "Acima, podemos verificar que a média da variável roubo de veículos é de 2763.95 veículos por mês, mas a evolução do número é preocupante. \n",
    "Vale observar que os dados de 2019 se referem **apenas ao primeiro semestre**, por isso a redução acentuada, mas possui a terceira maior média da década, conforme quadro abaixo"
   ]
  },
  {
   "cell_type": "code",
   "execution_count": 194,
   "metadata": {},
   "outputs": [
    {
     "data": {
      "text/html": [
       "<div>\n",
       "<style scoped>\n",
       "    .dataframe tbody tr th:only-of-type {\n",
       "        vertical-align: middle;\n",
       "    }\n",
       "\n",
       "    .dataframe tbody tr th {\n",
       "        vertical-align: top;\n",
       "    }\n",
       "\n",
       "    .dataframe thead th {\n",
       "        text-align: right;\n",
       "    }\n",
       "</style>\n",
       "<table border=\"1\" class=\"dataframe\">\n",
       "  <thead>\n",
       "    <tr style=\"text-align: right;\">\n",
       "      <th></th>\n",
       "      <th>mes</th>\n",
       "      <th>hom_doloso</th>\n",
       "      <th>lesao_corp_morte</th>\n",
       "      <th>latrocinio</th>\n",
       "      <th>furto_veiculos</th>\n",
       "      <th>roubo_veiculo</th>\n",
       "      <th>recuperacao_veiculos</th>\n",
       "    </tr>\n",
       "    <tr>\n",
       "      <th>vano</th>\n",
       "      <th></th>\n",
       "      <th></th>\n",
       "      <th></th>\n",
       "      <th></th>\n",
       "      <th></th>\n",
       "      <th></th>\n",
       "      <th></th>\n",
       "    </tr>\n",
       "  </thead>\n",
       "  <tbody>\n",
       "    <tr>\n",
       "      <th>2009</th>\n",
       "      <td>6.5</td>\n",
       "      <td>482.750000</td>\n",
       "      <td>3.666667</td>\n",
       "      <td>18.416667</td>\n",
       "      <td>1695.166667</td>\n",
       "      <td>2086.333333</td>\n",
       "      <td>1659.416667</td>\n",
       "    </tr>\n",
       "    <tr>\n",
       "      <th>2010</th>\n",
       "      <td>6.5</td>\n",
       "      <td>397.250000</td>\n",
       "      <td>4.166667</td>\n",
       "      <td>13.000000</td>\n",
       "      <td>1562.666667</td>\n",
       "      <td>1671.000000</td>\n",
       "      <td>1380.666667</td>\n",
       "    </tr>\n",
       "    <tr>\n",
       "      <th>2011</th>\n",
       "      <td>6.5</td>\n",
       "      <td>356.583333</td>\n",
       "      <td>3.333333</td>\n",
       "      <td>9.833333</td>\n",
       "      <td>1299.416667</td>\n",
       "      <td>1564.416667</td>\n",
       "      <td>1345.166667</td>\n",
       "    </tr>\n",
       "    <tr>\n",
       "      <th>2012</th>\n",
       "      <td>6.5</td>\n",
       "      <td>340.083333</td>\n",
       "      <td>2.000000</td>\n",
       "      <td>11.833333</td>\n",
       "      <td>1355.250000</td>\n",
       "      <td>1838.750000</td>\n",
       "      <td>1453.833333</td>\n",
       "    </tr>\n",
       "    <tr>\n",
       "      <th>2013</th>\n",
       "      <td>6.5</td>\n",
       "      <td>395.416667</td>\n",
       "      <td>3.250000</td>\n",
       "      <td>12.333333</td>\n",
       "      <td>1472.333333</td>\n",
       "      <td>2333.500000</td>\n",
       "      <td>1779.583333</td>\n",
       "    </tr>\n",
       "    <tr>\n",
       "      <th>2014</th>\n",
       "      <td>6.5</td>\n",
       "      <td>411.833333</td>\n",
       "      <td>3.416667</td>\n",
       "      <td>12.666667</td>\n",
       "      <td>1473.583333</td>\n",
       "      <td>2720.916667</td>\n",
       "      <td>2102.250000</td>\n",
       "    </tr>\n",
       "    <tr>\n",
       "      <th>2015</th>\n",
       "      <td>6.5</td>\n",
       "      <td>350.000000</td>\n",
       "      <td>2.666667</td>\n",
       "      <td>11.083333</td>\n",
       "      <td>1412.000000</td>\n",
       "      <td>2586.250000</td>\n",
       "      <td>1971.916667</td>\n",
       "    </tr>\n",
       "    <tr>\n",
       "      <th>2016</th>\n",
       "      <td>6.5</td>\n",
       "      <td>420.166667</td>\n",
       "      <td>4.666667</td>\n",
       "      <td>19.916667</td>\n",
       "      <td>1396.583333</td>\n",
       "      <td>3474.666667</td>\n",
       "      <td>2390.833333</td>\n",
       "    </tr>\n",
       "    <tr>\n",
       "      <th>2017</th>\n",
       "      <td>6.5</td>\n",
       "      <td>445.500000</td>\n",
       "      <td>3.250000</td>\n",
       "      <td>19.750000</td>\n",
       "      <td>1309.000000</td>\n",
       "      <td>4530.500000</td>\n",
       "      <td>3135.833333</td>\n",
       "    </tr>\n",
       "    <tr>\n",
       "      <th>2018</th>\n",
       "      <td>6.5</td>\n",
       "      <td>412.500000</td>\n",
       "      <td>4.666667</td>\n",
       "      <td>14.500000</td>\n",
       "      <td>1316.166667</td>\n",
       "      <td>4341.416667</td>\n",
       "      <td>3037.333333</td>\n",
       "    </tr>\n",
       "    <tr>\n",
       "      <th>2019</th>\n",
       "      <td>4.5</td>\n",
       "      <td>339.625000</td>\n",
       "      <td>3.000000</td>\n",
       "      <td>10.500000</td>\n",
       "      <td>1351.500000</td>\n",
       "      <td>3501.500000</td>\n",
       "      <td>2423.375000</td>\n",
       "    </tr>\n",
       "  </tbody>\n",
       "</table>\n",
       "</div>"
      ],
      "text/plain": [
       "      mes  hom_doloso  lesao_corp_morte  latrocinio  furto_veiculos  \\\n",
       "vano                                                                  \n",
       "2009  6.5  482.750000          3.666667   18.416667     1695.166667   \n",
       "2010  6.5  397.250000          4.166667   13.000000     1562.666667   \n",
       "2011  6.5  356.583333          3.333333    9.833333     1299.416667   \n",
       "2012  6.5  340.083333          2.000000   11.833333     1355.250000   \n",
       "2013  6.5  395.416667          3.250000   12.333333     1472.333333   \n",
       "2014  6.5  411.833333          3.416667   12.666667     1473.583333   \n",
       "2015  6.5  350.000000          2.666667   11.083333     1412.000000   \n",
       "2016  6.5  420.166667          4.666667   19.916667     1396.583333   \n",
       "2017  6.5  445.500000          3.250000   19.750000     1309.000000   \n",
       "2018  6.5  412.500000          4.666667   14.500000     1316.166667   \n",
       "2019  4.5  339.625000          3.000000   10.500000     1351.500000   \n",
       "\n",
       "      roubo_veiculo  recuperacao_veiculos  \n",
       "vano                                       \n",
       "2009    2086.333333           1659.416667  \n",
       "2010    1671.000000           1380.666667  \n",
       "2011    1564.416667           1345.166667  \n",
       "2012    1838.750000           1453.833333  \n",
       "2013    2333.500000           1779.583333  \n",
       "2014    2720.916667           2102.250000  \n",
       "2015    2586.250000           1971.916667  \n",
       "2016    3474.666667           2390.833333  \n",
       "2017    4530.500000           3135.833333  \n",
       "2018    4341.416667           3037.333333  \n",
       "2019    3501.500000           2423.375000  "
      ]
     },
     "execution_count": 194,
     "metadata": {},
     "output_type": "execute_result"
    }
   ],
   "source": [
    "df3.groupby(df3.index).mean()"
   ]
  },
  {
   "cell_type": "code",
   "execution_count": 162,
   "metadata": {
    "colab": {
     "base_uri": "https://localhost:8080/",
     "height": 34
    },
    "colab_type": "code",
    "id": "PPJ3lJ3EdFfV",
    "outputId": "d70f15f4-a758-4004-b2ad-3b22d11645ec"
   },
   "outputs": [
    {
     "name": "stdout",
     "output_type": "stream",
     "text": [
      "1424.36\n"
     ]
    }
   ],
   "source": [
    "# ver a média da variável furto_veiculos\n",
    "mean_furto_veiculos = df3.furto_veiculos.mean()\n",
    "print(round(mean_furto_veiculos,2))"
   ]
  },
  {
   "cell_type": "code",
   "execution_count": 193,
   "metadata": {},
   "outputs": [
    {
     "data": {
      "text/plain": [
       "<matplotlib.axes._subplots.AxesSubplot at 0x9c80310>"
      ]
     },
     "execution_count": 193,
     "metadata": {},
     "output_type": "execute_result"
    },
    {
     "data": {
      "image/png": "[encoded data removed]",
      "text/plain": [
       "<Figure size 432x288 with 1 Axes>"
      ]
     },
     "metadata": {
      "needs_background": "light"
     },
     "output_type": "display_data"
    }
   ],
   "source": [
    "df4.furto_veiculos.plot.line()"
   ]
  },
  {
   "cell_type": "markdown",
   "metadata": {
    "colab_type": "text",
    "id": "9_DpxNc6Pyzq"
   },
   "source": [
    "Em relação aos furtos, a média de 1424.36 é um pouco menor, mas a tendência é de redução. ou seja, em relação aos veículos, os crimes violentos estão em expansão."
   ]
  },
  {
   "cell_type": "code",
   "execution_count": 163,
   "metadata": {
    "colab": {
     "base_uri": "https://localhost:8080/",
     "height": 34
    },
    "colab_type": "code",
    "id": "9iPpP0iqdFoe",
    "outputId": "643eecf9-c496-4fb8-9d3d-6719c6a7ca0a"
   },
   "outputs": [
    {
     "name": "stdout",
     "output_type": "stream",
     "text": [
      "2050.54\n"
     ]
    }
   ],
   "source": [
    "# ver a média da variável recuperacao_veiculos\n",
    "mean_recuperacao_veiculos = df3.recuperacao_veiculos.mean()\n",
    "print(round(mean_recuperacao_veiculos,2))"
   ]
  },
  {
   "cell_type": "code",
   "execution_count": 195,
   "metadata": {
    "colab": {
     "base_uri": "https://localhost:8080/",
     "height": 68
    },
    "colab_type": "code",
    "id": "M82MFbkiQDrq",
    "outputId": "0be0e5a6-61f5-46e6-ca92-4bd4c3e80807"
   },
   "outputs": [
    {
     "name": "stdout",
     "output_type": "stream",
     "text": [
      "Média de Veículos Perdidos por Mês: 4188.30 \n",
      "Veículos Recuperados por Mês: 2050.54\n",
      "48.96% dos veículos roubados ou furtados são recuperados.\n"
     ]
    }
   ],
   "source": [
    "# ver a média da variável recuperacao_veiculos\n",
    "mean_recuperacao_veiculos = df3.recuperacao_veiculos.mean()\n",
    "\n",
    "# total de veículos perdidos\n",
    "total = mean_roubo_veiculo + mean_furto_veiculos\n",
    "print('Média de Veículos Perdidos por Mês: {:.2f} '.format(total))\n",
    "print('Veículos Recuperados por Mês: {:.2f}'.format(mean_recuperacao_veiculos))\n",
    "\n",
    "# porcentagem de veículos recuperados\n",
    "pct = mean_recuperacao_veiculos/total*100\n",
    "\n",
    "print('{:.2f}% dos veículos roubados ou furtados são recuperados.'.format(pct))"
   ]
  },
  {
   "cell_type": "code",
   "execution_count": 208,
   "metadata": {},
   "outputs": [
    {
     "data": {
      "text/plain": [
       "<matplotlib.axes._subplots.AxesSubplot at 0x9ed54d0>"
      ]
     },
     "execution_count": 208,
     "metadata": {},
     "output_type": "execute_result"
    },
    {
     "data": {
      "image/png": "[encoded data removed]",
      "text/plain": [
       "<Figure size 432x288 with 1 Axes>"
      ]
     },
     "metadata": {
      "needs_background": "light"
     },
     "output_type": "display_data"
    }
   ],
   "source": [
    "df5 = df4.loc[[2009,2010,2011,2012,2013,2014,2015,2016,2017,2018,2019],['furto_veiculos','roubo_veiculo','recuperacao_veiculos']]\n",
    "df5.plot.line()"
   ]
  },
  {
   "cell_type": "markdown",
   "metadata": {},
   "source": [
    "O gráfico de recuperação dos veículos acompanha roubos, mostrando uma resposta responsiva, que atua sob demanda, infelizmente, sempre com um gap de veículos não recuperados."
   ]
  },
  {
   "cell_type": "markdown",
   "metadata": {
    "colab_type": "text",
    "id": "b84veA9PTUgs"
   },
   "source": [
    "### Crimes Contra a Vida\n",
    "\n",
    "Abaixo, vamos identificar qual foi o máximo e mínimo registrado para a variável `hom_doloso` ao longo do período observado no dataset."
   ]
  },
  {
   "cell_type": "code",
   "execution_count": 165,
   "metadata": {
    "colab": {
     "base_uri": "https://localhost:8080/",
     "height": 51
    },
    "colab_type": "code",
    "id": "bIy76x0weUL9",
    "outputId": "af446953-d062-476c-d3d3-97fdfb6b939f"
   },
   "outputs": [
    {
     "name": "stdout",
     "output_type": "stream",
     "text": [
      "Min:\t272\n",
      "Max:\t588\n"
     ]
    }
   ],
   "source": [
    "# valores max e min de hom_doloso\n",
    "max_hom_doloso = df3.hom_doloso.max()\n",
    "min_hom_doloso = df3.hom_doloso.min()\n",
    "\n",
    "# imprimir os valores máximos e mínimos\n",
    "print(\"Min:\\t{}\".format(min_hom_doloso))\n",
    "print(\"Max:\\t{}\".format(max_hom_doloso))"
   ]
  },
  {
   "cell_type": "markdown",
   "metadata": {
    "colab_type": "text",
    "id": "Ndx9VueJTjp1"
   },
   "source": [
    "Acima podemos ver que no mês com menor número de casos foram registrados 272 homicídios dolosos. \n",
    "\n",
    "Em relação ao mês com números mais elevado, houve 588 homicídios dolosos.\n",
    "\n",
    "Vamos investigar um pouco mais a fundo essas entradas.\n"
   ]
  },
  {
   "cell_type": "code",
   "execution_count": 120,
   "metadata": {
    "colab": {
     "base_uri": "https://localhost:8080/",
     "height": 120
    },
    "colab_type": "code",
    "id": "P7hSeLzITSg6",
    "outputId": "5c47d050-271f-4d77-aa51-6ebebb431801"
   },
   "outputs": [
    {
     "data": {
      "text/html": [
       "<div>\n",
       "<style scoped>\n",
       "    .dataframe tbody tr th:only-of-type {\n",
       "        vertical-align: middle;\n",
       "    }\n",
       "\n",
       "    .dataframe tbody tr th {\n",
       "        vertical-align: top;\n",
       "    }\n",
       "\n",
       "    .dataframe thead th {\n",
       "        text-align: right;\n",
       "    }\n",
       "</style>\n",
       "<table border=\"1\" class=\"dataframe\">\n",
       "  <thead>\n",
       "    <tr style=\"text-align: right;\">\n",
       "      <th></th>\n",
       "      <th>mes</th>\n",
       "      <th>hom_doloso</th>\n",
       "      <th>lesao_corp_morte</th>\n",
       "      <th>latrocinio</th>\n",
       "      <th>furto_veiculos</th>\n",
       "      <th>roubo_veiculo</th>\n",
       "      <th>recuperacao_veiculos</th>\n",
       "    </tr>\n",
       "    <tr>\n",
       "      <th>vano</th>\n",
       "      <th></th>\n",
       "      <th></th>\n",
       "      <th></th>\n",
       "      <th></th>\n",
       "      <th></th>\n",
       "      <th></th>\n",
       "      <th></th>\n",
       "    </tr>\n",
       "  </thead>\n",
       "  <tbody>\n",
       "    <tr>\n",
       "      <th>2015</th>\n",
       "      <td>6</td>\n",
       "      <td>272</td>\n",
       "      <td>2.0</td>\n",
       "      <td>16</td>\n",
       "      <td>1333</td>\n",
       "      <td>2254</td>\n",
       "      <td>1768</td>\n",
       "    </tr>\n",
       "  </tbody>\n",
       "</table>\n",
       "</div>"
      ],
      "text/plain": [
       "      mes  hom_doloso  lesao_corp_morte  latrocinio  furto_veiculos  \\\n",
       "vano                                                                  \n",
       "2015    6         272               2.0          16            1333   \n",
       "\n",
       "      roubo_veiculo  recuperacao_veiculos  \n",
       "vano                                       \n",
       "2015           2254                  1768  "
      ]
     },
     "execution_count": 120,
     "metadata": {},
     "output_type": "execute_result"
    }
   ],
   "source": [
    "# verificando o mês com menor número de homicídios dolosos\n",
    "df2[df2.hom_doloso == 272]"
   ]
  },
  {
   "cell_type": "code",
   "execution_count": 121,
   "metadata": {
    "colab": {
     "base_uri": "https://localhost:8080/",
     "height": 120
    },
    "colab_type": "code",
    "id": "f7Cg6vA5UczM",
    "outputId": "2bd35a7b-a902-4fbb-a423-813901ec9d36"
   },
   "outputs": [
    {
     "data": {
      "text/html": [
       "<div>\n",
       "<style scoped>\n",
       "    .dataframe tbody tr th:only-of-type {\n",
       "        vertical-align: middle;\n",
       "    }\n",
       "\n",
       "    .dataframe tbody tr th {\n",
       "        vertical-align: top;\n",
       "    }\n",
       "\n",
       "    .dataframe thead th {\n",
       "        text-align: right;\n",
       "    }\n",
       "</style>\n",
       "<table border=\"1\" class=\"dataframe\">\n",
       "  <thead>\n",
       "    <tr style=\"text-align: right;\">\n",
       "      <th></th>\n",
       "      <th>mes</th>\n",
       "      <th>hom_doloso</th>\n",
       "      <th>lesao_corp_morte</th>\n",
       "      <th>latrocinio</th>\n",
       "      <th>furto_veiculos</th>\n",
       "      <th>roubo_veiculo</th>\n",
       "      <th>recuperacao_veiculos</th>\n",
       "    </tr>\n",
       "    <tr>\n",
       "      <th>vano</th>\n",
       "      <th></th>\n",
       "      <th></th>\n",
       "      <th></th>\n",
       "      <th></th>\n",
       "      <th></th>\n",
       "      <th></th>\n",
       "      <th></th>\n",
       "    </tr>\n",
       "  </thead>\n",
       "  <tbody>\n",
       "    <tr>\n",
       "      <th>2009</th>\n",
       "      <td>3</td>\n",
       "      <td>588</td>\n",
       "      <td>5.0</td>\n",
       "      <td>30</td>\n",
       "      <td>1830</td>\n",
       "      <td>2564</td>\n",
       "      <td>1880</td>\n",
       "    </tr>\n",
       "  </tbody>\n",
       "</table>\n",
       "</div>"
      ],
      "text/plain": [
       "      mes  hom_doloso  lesao_corp_morte  latrocinio  furto_veiculos  \\\n",
       "vano                                                                  \n",
       "2009    3         588               5.0          30            1830   \n",
       "\n",
       "      roubo_veiculo  recuperacao_veiculos  \n",
       "vano                                       \n",
       "2009           2564                  1880  "
      ]
     },
     "execution_count": 121,
     "metadata": {},
     "output_type": "execute_result"
    }
   ],
   "source": [
    "# verificando o mês com maior número de homicídios dolosos\n",
    "df2[df2.hom_doloso == 588]"
   ]
  },
  {
   "cell_type": "markdown",
   "metadata": {
    "colab_type": "text",
    "id": "nUBVzTn1UjK0"
   },
   "source": [
    "Acima, vemos que o mês de março de 2009 foi o mês com mais casos de homicídios dolosos registrados no nosso dataset, enquanto o posto de mês com menor número de casos foi Junho de 2015.\n",
    "\n",
    "Isso sugere um bom sinal, indicando que, talvez, o crime venha diminuindo, mas vamos observar o número de casos, incluindo os latrocínios e lesões corporais que se seguiram de morte:"
   ]
  },
  {
   "cell_type": "code",
   "execution_count": 223,
   "metadata": {},
   "outputs": [
    {
     "data": {
      "text/plain": [
       "<matplotlib.axes._subplots.AxesSubplot at 0xa279d50>"
      ]
     },
     "execution_count": 223,
     "metadata": {},
     "output_type": "execute_result"
    },
    {
     "data": {
      "image/png": "[encoded data removed]",
      "text/plain": [
       "<Figure size 432x288 with 1 Axes>"
      ]
     },
     "metadata": {
      "needs_background": "light"
     },
     "output_type": "display_data"
    }
   ],
   "source": [
    "df6 = df4.loc[[2009,2010,2011,2012,2013,2014,2015,2016,2017,2018,2019],['hom_doloso','lesao_corp_morte','latrocinio']]\n",
    "df6.plot.line()"
   ]
  },
  {
   "cell_type": "markdown",
   "metadata": {},
   "source": [
    "Dessa forma, em que pesem os números obtidos com mínimo e máximo supracitados, o gráfico demonstra uma tendência de estabilidade nos crimes, sempre lembrando que o ano de 2019, que aparentemente está em forte baixa, está incompleto, assim, é interessante plotar um gráfico com a média dos anos."
   ]
  },
  {
   "cell_type": "code",
   "execution_count": 228,
   "metadata": {},
   "outputs": [
    {
     "data": {
      "text/plain": [
       "<matplotlib.axes._subplots.AxesSubplot at 0xbb6c2b0>"
      ]
     },
     "execution_count": 228,
     "metadata": {},
     "output_type": "execute_result"
    },
    {
     "data": {
      "image/png": "[encoded data removed]",
      "text/plain": [
       "<Figure size 432x288 with 1 Axes>"
      ]
     },
     "metadata": {
      "needs_background": "light"
     },
     "output_type": "display_data"
    }
   ],
   "source": [
    "df_CCV = df2.loc[[2009,2010,2011,2012,2013,2014,2015,2016,2017,2018,2019],['hom_doloso','lesao_corp_morte','latrocinio']]\n",
    "x=df_CCV.groupby(df_CCV.index).mean()\n",
    "x.plot.bar()"
   ]
  },
  {
   "cell_type": "markdown",
   "metadata": {},
   "source": [
    "Embora se observe uma sutil redução na média de 2019, vemos que não há uma redução significativa. No historgrama abaixo, vemos que a distribuição tende para um número mais reduzido de casos e que os picos acima dos 500 homicídios mês são incomuns."
   ]
  },
  {
   "cell_type": "code",
   "execution_count": 229,
   "metadata": {
    "colab": {
     "base_uri": "https://localhost:8080/",
     "height": 265
    },
    "colab_type": "code",
    "id": "9dADglRaetMy",
    "outputId": "ad6c13fc-356f-496c-c402-6f5ae46118bd"
   },
   "outputs": [
    {
     "data": {
      "image/png": "[encoded data removed]",
      "text/plain": [
       "<Figure size 432x288 with 1 Axes>"
      ]
     },
     "metadata": {
      "needs_background": "light"
     },
     "output_type": "display_data"
    }
   ],
   "source": [
    "# plotar histograma de hom_doloso\n",
    "df3.hom_doloso.hist();"
   ]
  },
  {
   "attachments": {},
   "cell_type": "markdown",
   "metadata": {
    "colab_type": "text",
    "id": "6Ylqb_5eU-t6"
   },
   "source": [
    "### Comparativo com outros países\n",
    "\n",
    "Pela análise efetuada, vimos que o número de homicídios apresenta uma leve tendência de baixa, enquanto que em relação aos crimes contra o patrimônio a resposta das autoridades tem acompanhado a escalada dos crimes. \n",
    "\n",
    "Porém, como o Rio de Janeiro se posiciona em relação a outros locais, no exterior?\n",
    "\n",
    "No site do Escritório das Nações Unidas para combate às drogas e criminalidade [https://dataunodc.un.org/], coletamos dados de vários países de continentes distintos para efeito de comparação com os dados do estado do Rio de Janeiro. Os dados obtidos se referem ao ano de 2018.\n",
    "\n",
    "\n",
    "<img alt=\"Rio\" width=\"30%\" src=\"https://dataunodc.un.org/sites/dataunodc.un.org/files/unodc.jpg\">"
   ]
  },
  {
   "cell_type": "code",
   "execution_count": 249,
   "metadata": {},
   "outputs": [
    {
     "data": {
      "text/html": [
       "<div>\n",
       "<style scoped>\n",
       "    .dataframe tbody tr th:only-of-type {\n",
       "        vertical-align: middle;\n",
       "    }\n",
       "\n",
       "    .dataframe tbody tr th {\n",
       "        vertical-align: top;\n",
       "    }\n",
       "\n",
       "    .dataframe thead th {\n",
       "        text-align: right;\n",
       "    }\n",
       "</style>\n",
       "<table border=\"1\" class=\"dataframe\">\n",
       "  <thead>\n",
       "    <tr style=\"text-align: right;\">\n",
       "      <th></th>\n",
       "      <th>País</th>\n",
       "      <th>População</th>\n",
       "      <th>Total Homicídios</th>\n",
       "      <th>Homicídios por 100 mil</th>\n",
       "    </tr>\n",
       "  </thead>\n",
       "  <tbody>\n",
       "    <tr>\n",
       "      <th>0</th>\n",
       "      <td>Chile</td>\n",
       "      <td>19,1</td>\n",
       "      <td>825</td>\n",
       "      <td>4,4</td>\n",
       "    </tr>\n",
       "    <tr>\n",
       "      <th>1</th>\n",
       "      <td>Portugal</td>\n",
       "      <td>10,2</td>\n",
       "      <td>81</td>\n",
       "      <td>0,8</td>\n",
       "    </tr>\n",
       "    <tr>\n",
       "      <th>2</th>\n",
       "      <td>Argentina</td>\n",
       "      <td>44,9</td>\n",
       "      <td>2362</td>\n",
       "      <td>5,3</td>\n",
       "    </tr>\n",
       "    <tr>\n",
       "      <th>3</th>\n",
       "      <td>Austrália</td>\n",
       "      <td>25,6</td>\n",
       "      <td>222</td>\n",
       "      <td>0,9</td>\n",
       "    </tr>\n",
       "    <tr>\n",
       "      <th>4</th>\n",
       "      <td>Alemanha</td>\n",
       "      <td>83,1</td>\n",
       "      <td>788</td>\n",
       "      <td>0,9</td>\n",
       "    </tr>\n",
       "    <tr>\n",
       "      <th>5</th>\n",
       "      <td>França</td>\n",
       "      <td>67,7</td>\n",
       "      <td>779</td>\n",
       "      <td>1,2</td>\n",
       "    </tr>\n",
       "    <tr>\n",
       "      <th>6</th>\n",
       "      <td>Rio de Janeiro</td>\n",
       "      <td>16,1</td>\n",
       "      <td>4950</td>\n",
       "      <td>30,8</td>\n",
       "    </tr>\n",
       "  </tbody>\n",
       "</table>\n",
       "</div>"
      ],
      "text/plain": [
       "             País População Total Homicídios Homicídios por 100 mil\n",
       "0           Chile      19,1              825                    4,4\n",
       "1        Portugal      10,2               81                    0,8\n",
       "2       Argentina      44,9             2362                    5,3\n",
       "3       Austrália      25,6              222                    0,9\n",
       "4        Alemanha      83,1              788                    0,9\n",
       "5          França      67,7              779                    1,2\n",
       "6  Rio de Janeiro      16,1             4950                   30,8"
      ]
     },
     "execution_count": 249,
     "metadata": {},
     "output_type": "execute_result"
    }
   ],
   "source": [
    "#criando o dataset com os dados das Nações Unidas\n",
    "data = pd.DataFrame({'País':[\"Chile\",\"Portugal\",'Argentina','Austrália','Alemanha','França','Rio de Janeiro'],\n",
    "                     'População':['19,1','10,2','44,9','25,6','83,1','67,7','16,1'],\n",
    "                     'Total Homicídios':['825','81','2362','222','788','779','4950'],\n",
    "                     'Homicídios por 100 mil':['4,4',\"0,8\",'5,3','0,9','0,9','1,2','30,8']})\n",
    "data"
   ]
  },
  {
   "cell_type": "markdown",
   "metadata": {
    "colab_type": "text",
    "id": "LCsiXvM3BcsO"
   },
   "source": [
    "## Conclusão\n",
    "\n",
    "Se o estado do Rio de Janeiro fosse um país, os assassinatos em 2018 seriam equivalentes à soma dos homicídios ocorridos nos países listados, com uma população que é uma pequena fração da soma da população desses países. Sua taxa por 100 mil habitantes é de assombrosos 30,8 , cerca de 6 vezes a da argentina, por exemplo.\n",
    "\n",
    "A violência no Rio, não é novidade e tem sido objeto de manchetes mundo afora, porém os dados tem a capacidade de expor as feridas de forma irrefutável, e espero que possam despertar a população e as autoridades desse torpor que a banalização do crime provoca."
   ]
  }
 ],
 "metadata": {
  "colab": {
   "collapsed_sections": [],
   "name": "PROJETO - Analisando a Violência no Rio de Janeirob.ipynb",
   "provenance": []
  },
  "kernelspec": {
   "display_name": "Python 3",
   "language": "python",
   "name": "python3"
  },
  "language_info": {
   "codemirror_mode": {
    "name": "ipython",
    "version": 3
   },
   "file_extension": ".py",
   "mimetype": "text/x-python",
   "name": "python",
   "nbconvert_exporter": "python",
   "pygments_lexer": "ipython3",
   "version": "3.7.4"
  }
 },
 "nbformat": 4,
 "nbformat_minor": 1
}
